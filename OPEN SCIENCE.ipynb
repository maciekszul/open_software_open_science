{
 "cells": [
  {
   "cell_type": "markdown",
   "metadata": {
    "slideshow": {
     "slide_type": "slide"
    }
   },
   "source": [
    "<center> <img src=\"./images/titlecard.png\" style=\"width: 1000px;\"/> </center>\n",
    "<center><b>Maciej Szul</b></center>"
   ]
  },
  {
   "cell_type": "markdown",
   "metadata": {
    "slideshow": {
     "slide_type": "slide"
    }
   },
   "source": [
    "<center> <h3>Survey on knowledge and adoption of open research practises in the School of Psychology</h3></center>\n",
    "* 36% response rate among PGRs\n",
    "* 96.8% - open data is important\n",
    "* 93.3% - open digital materials/code is important\n",
    "* 54.8% - lack of information or training is a barrier\n",
    "* 45.2% - lack of supporting infrastructure is a barrier\n",
    "* 45.2% - lack of time is a barrier\n"
   ]
  },
  {
   "cell_type": "markdown",
   "metadata": {
    "slideshow": {
     "slide_type": "slide"
    }
   },
   "source": [
    "<center> <img src=\"./images/mob.jpeg\" style=\"width: 1000px;\"/> </center>"
   ]
  },
  {
   "cell_type": "markdown",
   "metadata": {
    "slideshow": {
     "slide_type": "slide"
    }
   },
   "source": [
    "<center> <h3>OUTLINE:</h3> </center>\n",
    "* why should you care about open science?\n",
    "* why should you care about using open software?\n",
    "* how good programming practices can help you?"
   ]
  },
  {
   "cell_type": "markdown",
   "metadata": {
    "slideshow": {
     "slide_type": "slide"
    }
   },
   "source": [
    "<center> <h3>Why should you care about open science?</h3> </center>\n",
    "* reliability\n",
    "* reproducibility\n",
    "* transparency\n",
    "* longer pre-, post- print life of your work (peer review, data)\n",
    "* facilitates collaboration\n",
    "* you can change the future\n",
    "* can reduce a 'file drawer problem'\n",
    "* signals values (good for ECRs)\n",
    "* has better citation rate (https://doi.org/10.1371/journal.pone.0000308)\n",
    "* looks better on CV"
   ]
  },
  {
   "cell_type": "markdown",
   "metadata": {
    "slideshow": {
     "slide_type": "slide"
    }
   },
   "source": [
    "<center> <h3>Why should you care about using open software?</h3> </center>\n",
    "* **Three kinds of reproduction**: analysis, data generating procedures, results (http://goo.gl/Fj5aHb)\n",
    "* 'When in doubt make it public.' - Jeff Atwood (co creator of Stack Overflow)\n",
    "* Helps the standarisation of the field\n",
    "* Very likely to be free and widely available\n",
    "* More eyeballs"
   ]
  },
  {
   "cell_type": "markdown",
   "metadata": {
    "slideshow": {
     "slide_type": "slide"
    }
   },
   "source": [
    "<center> <h3>How good programming practices can help you?</h3> </center>\n",
    "* saves you time!\n",
    "* takes very little to improve your code\n",
    "* new useful skills\n",
    "* version control\n",
    "* more confidence in sharing the code\n",
    "* transferable skills"
   ]
  },
  {
   "cell_type": "markdown",
   "metadata": {
    "slideshow": {
     "slide_type": "slide"
    }
   },
   "source": [
    "<center> <h3>BEST PROGRAMMING PRACTICES FOR OPEN SCIENCE (25 MAY, CUBRIC)</h3> </center>\n",
    "\n",
    "GW4 funded (yay!) workshop targets all students who use programming languages in their daily work (statistical analysis, numerical simulations, data processing, statistical modelling, experimental procedures). Experts and competent tutors will demonstrate practical solutions on how to make scientific code more accessible to other potential users and how to improve reproducibility of the results. The workshop will address new developments in programming workflow that can be applied across disciplines.\n",
    "\n",
    "Main topics: best porgramming practices, code sharing, collaboration, scientific writing, reference managing data sharing, reproducibility. (coffee and food)\n",
    "\n",
    "https://sciprogramming.wordpress.com/"
   ]
  },
  {
   "cell_type": "markdown",
   "metadata": {
    "slideshow": {
     "slide_type": "slide"
    }
   },
   "source": [
    "<center> <img src=\"./images/casper_albers.png\" style=\"height: 700px;\"/> </center>"
   ]
  },
  {
   "cell_type": "markdown",
   "metadata": {
    "slideshow": {
     "slide_type": "slide"
    }
   },
   "source": [
    "Presentation is available on GitHub: https://github.com/maciekszul/open_software_open_science\n",
    "\n",
    "<center> <h3>OTHER SOURCES:</h3> </center>\n",
    "* http://sciencecodemanifesto.org/\n",
    "* http://loci.wisc.edu/software/oss\n",
    "* http://www.nature.com/news/2010/101013/full/467753a.html\n",
    "* https://pantonprinciples.org/\n",
    "* http://journals.plos.org/ploscompbiol/article?id=10.1371/journal.pcbi.1002802"
   ]
  }
 ],
 "metadata": {
  "celltoolbar": "Slideshow",
  "kernelspec": {
   "display_name": "Python 3",
   "language": "python",
   "name": "python3"
  },
  "language_info": {
   "codemirror_mode": {
    "name": "ipython",
    "version": 3
   },
   "file_extension": ".py",
   "mimetype": "text/x-python",
   "name": "python",
   "nbconvert_exporter": "python",
   "pygments_lexer": "ipython3",
   "version": "3.6.3"
  },
  "livereveal": {
   "theme": "white",
   "transition": "zoom"
  },
  "widgets": {
   "state": {
    "1a511c22f20e42d7bf5aec20292b5023": {
     "views": [
      {
       "cell_index": 4
      }
     ]
    },
    "dfaf1bbae0824c9c895c72d45204c988": {
     "views": [
      {
       "cell_index": 2
      }
     ]
    }
   },
   "version": "1.2.0"
  }
 },
 "nbformat": 4,
 "nbformat_minor": 2
}
