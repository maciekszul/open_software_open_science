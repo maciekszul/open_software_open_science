{
 "cells": [
  {
   "cell_type": "markdown",
   "metadata": {
    "slideshow": {
     "slide_type": "slide"
    }
   },
   "source": [
    "<center> <img src=\"./images/titlecard.png\" style=\"height: 500px;\"/> </center>\n",
    "<center><b>Maciej Szul</b></center>"
   ]
  },
  {
   "cell_type": "markdown",
   "metadata": {
    "slideshow": {
     "slide_type": "slide"
    }
   },
   "source": [
    "<center> <h3>OUTLINE:</h3> </center>\n",
    "* why should you care about open science?\n",
    "* why should you care about using open software?\n",
    "* how good programming practices can help making better science?\n",
    "* what are the tools available?"
   ]
  },
  {
   "cell_type": "markdown",
   "metadata": {
    "slideshow": {
     "slide_type": "slide"
    }
   },
   "source": [
    "<center> <h3>Why should you care about open science?</h3> </center>\n",
    "* reliability\n",
    "* reproducibility\n",
    "* longer pre-, post- print life of your work\n",
    "* signals values\n",
    "* facilitates collaboration\n",
    "* you can change the future"
   ]
  },
  {
   "cell_type": "markdown",
   "metadata": {
    "slideshow": {
     "slide_type": "slide"
    }
   },
   "source": [
    "<center> <h3>Why should you care about using open software?</h3> </center>\n",
    "* z\n",
    "* z\n",
    "* z\n",
    "* z\n",
    "* z\n",
    "* z"
   ]
  }
 ],
 "metadata": {
  "celltoolbar": "Slideshow",
  "kernelspec": {
   "display_name": "Python 2",
   "language": "python",
   "name": "python2"
  },
  "language_info": {
   "codemirror_mode": {
    "name": "ipython",
    "version": 2
   },
   "file_extension": ".py",
   "mimetype": "text/x-python",
   "name": "python",
   "nbconvert_exporter": "python",
   "pygments_lexer": "ipython2",
   "version": "2.7.12"
  },
  "livereveal": {
   "theme": "white",
   "transition": "zoom"
  },
  "widgets": {
   "state": {
    "1a511c22f20e42d7bf5aec20292b5023": {
     "views": [
      {
       "cell_index": 4
      }
     ]
    },
    "dfaf1bbae0824c9c895c72d45204c988": {
     "views": [
      {
       "cell_index": 2
      }
     ]
    }
   },
   "version": "1.2.0"
  }
 },
 "nbformat": 4,
 "nbformat_minor": 2
}
